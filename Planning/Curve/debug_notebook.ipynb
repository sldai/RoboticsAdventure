{
 "cells": [
  {
   "cell_type": "code",
   "execution_count": 7,
   "metadata": {},
   "outputs": [],
   "source": [
    "import numpy as np\n",
    "import matplotlib.pyplot as plt\n",
    "import math"
   ]
  },
  {
   "cell_type": "code",
   "execution_count": 15,
   "metadata": {},
   "outputs": [],
   "source": [
    "def transform1(sx, sy, syaw, gx, gy, gyaw):\n",
    "    rot = np.array(\n",
    "        [[math.cos(syaw), -math.sin(syaw)],\n",
    "         [math.sin(syaw), math.cos(syaw)]]\n",
    "        )\n",
    "    p = np.array([sx, sy]).reshape((2,1))\n",
    "    T = np.block(\n",
    "        [[rot, p],\n",
    "         [np.zeros((1,2)),1]]\n",
    "    )\n",
    "    print(np.linalg.inv(T)-np.block([[rot.T,np.zeros((2,1))],\n",
    "                                      [np.zeros((1,2)),1]])@ np.block([[np.eye(2),-p],\n",
    "                                       [np.zeros((1,2)),1]]))\n",
    "    bG = np.linalg.inv(T) @ np.array([gx,gy,1.0])\n",
    "    bx, by, btheta = bG[0], bG[1], gyaw-syaw\n",
    "    return bx, by, btheta"
   ]
  },
  {
   "cell_type": "code",
   "execution_count": 16,
   "metadata": {},
   "outputs": [
    {
     "name": "stdout",
     "output_type": "stream",
     "text": [
      "[[ 1.11022302e-16  5.55111512e-17  0.00000000e+00]\n",
      " [ 0.00000000e+00  1.11022302e-16 -1.11022302e-16]\n",
      " [ 0.00000000e+00  0.00000000e+00  0.00000000e+00]]\n"
     ]
    }
   ],
   "source": [
    "x,y,theta = transform1(1, 1, 0.3, 5, 4, 0.2)"
   ]
  },
  {
   "cell_type": "code",
   "execution_count": 17,
   "metadata": {},
   "outputs": [
    {
     "name": "stdout",
     "output_type": "stream",
     "text": [
      "4.707906576486444 1.6839286407314602 -0.09999999999999998\n"
     ]
    }
   ],
   "source": [
    "print(x,y,theta)"
   ]
  },
  {
   "cell_type": "code",
   "execution_count": 18,
   "metadata": {},
   "outputs": [],
   "source": [
    "def transform2(sx, sy, syaw, gx, gy, gyaw):\n",
    "    theta1 = syaw\n",
    "    dx = gx - sx\n",
    "    dy = gy - sy\n",
    "    new_x = dx * math.cos(theta1) + dy * math.sin(theta1)\n",
    "    new_y = -dx * math.sin(theta1) + dy * math.cos(theta1)\n",
    "    new_theta = gyaw-syaw\n",
    "    return new_x, new_y, new_theta"
   ]
  },
  {
   "cell_type": "code",
   "execution_count": 19,
   "metadata": {},
   "outputs": [
    {
     "name": "stdout",
     "output_type": "stream",
     "text": [
      "4.707906576486442 1.68392864073146 -0.09999999999999998\n"
     ]
    }
   ],
   "source": [
    "x,y,theta = transform2(1, 1, 0.3, 5, 4, 0.2)\n",
    "print(x,y,theta)"
   ]
  },
  {
   "cell_type": "code",
   "execution_count": null,
   "metadata": {},
   "outputs": [],
   "source": []
  }
 ],
 "metadata": {
  "kernelspec": {
   "display_name": "Python 3",
   "language": "python",
   "name": "python3"
  },
  "language_info": {
   "codemirror_mode": {
    "name": "ipython",
    "version": 3
   },
   "file_extension": ".py",
   "mimetype": "text/x-python",
   "name": "python",
   "nbconvert_exporter": "python",
   "pygments_lexer": "ipython3",
   "version": "3.8.3"
  }
 },
 "nbformat": 4,
 "nbformat_minor": 4
}
